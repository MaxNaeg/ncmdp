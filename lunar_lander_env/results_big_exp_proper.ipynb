{
 "cells": [
  {
   "cell_type": "code",
   "execution_count": 5,
   "metadata": {},
   "outputs": [],
   "source": [
    "import pickle\n",
    "import numpy as np\n",
    "import matplotlib.pyplot as plt\n",
    "import matplotlib as mpl  \n",
    "mpl.rc('font',family='Latin Modern Sans')\n"
   ]
  },
  {
   "cell_type": "code",
   "execution_count": 6,
   "metadata": {},
   "outputs": [],
   "source": [
    "import numpy as np\n",
    "\n",
    "def bootstrap_ci(data, n_resamples=10000, ci=90, random_seed=None):\n",
    "    \"\"\"\n",
    "    Compute bootstrap confidence intervals along axis 0 for a 2D array.\n",
    "\n",
    "    Parameters:\n",
    "        data (np.ndarray): Array of shape (a, b)\n",
    "        n_resamples (int): Number of bootstrap resamples\n",
    "        ci (float): Confidence level (e.g., 90 for 90%)\n",
    "        random_seed (int or None): Optional random seed for reproducibility\n",
    "\n",
    "    Returns:\n",
    "        mean (np.ndarray): Mean along axis 0 → shape (b,)\n",
    "        lower (np.ndarray): Lower bound of confidence interval → shape (b,)\n",
    "        upper (np.ndarray): Upper bound of confidence interval → shape (b,)\n",
    "    \"\"\"\n",
    "    if random_seed is not None:\n",
    "        np.random.seed(random_seed)\n",
    "    \n",
    "    a, b = data.shape\n",
    "    means = np.zeros((n_resamples, b))\n",
    "    \n",
    "    for i in range(n_resamples):\n",
    "        indices = np.random.randint(0, a, size=a)\n",
    "        sample = data[indices, :]  # resample rows (axis 0)\n",
    "        means[i] = sample.mean(axis=0)\n",
    "\n",
    "    alpha = (100 - ci) / 2\n",
    "    lower = np.percentile(means, alpha, axis=0)\n",
    "    upper = np.percentile(means, 100 - alpha, axis=0)\n",
    "    mean = data.mean(axis=0)\n",
    "\n",
    "    return mean, lower, upper\n"
   ]
  },
  {
   "cell_type": "code",
   "execution_count": 7,
   "metadata": {},
   "outputs": [],
   "source": [
    "folder_save = \"/Users/mnaegel/Documents/RL_opt/Figures_rlopt/\"\n",
    "font = {\"fontname\": \"Latin Modern Sans\", \"fontsize\":10}\n",
    "font_legend = {\"size\": 7}\n",
    "blue = \"#00A2FF\"\n",
    "orange=\"#F27200\"\n",
    "green=\"#1DB100\"\n",
    "red=\"#EE220C\""
   ]
  },
  {
   "cell_type": "code",
   "execution_count": 9,
   "metadata": {},
   "outputs": [],
   "source": [
    "to_add = \"maxppo_obs\"\n",
    "save_path= \"eval_results/eval_results_big_exp_2\"\n",
    "with open(save_path + f\"episode_rewards_all_{to_add}.pkl\", \"rb\") as f:\n",
    "    episode_rewards_all_max_obs = np.array(pickle.load(f))\n",
    "\n",
    "with open(save_path + f\"episode_lengths_all_{to_add}.pkl\", \"rb\") as f:\n",
    "    episode_lengths_all_max_obs = np.array(pickle.load(f))\n",
    "\n",
    "with open(save_path + f\"episode_rewards_not_adapted_all_{to_add}.pkl\", \"rb\") as f:\n",
    "    episode_rewards_not_adapted_all_max_obs = np.array(pickle.load(f))\n",
    "\n",
    "with open(save_path + f\"episode_neg_min_vel_all_{to_add}.pkl\", \"rb\") as f:\n",
    "    episode_neg_min_vel_all_max_obs = np.array(pickle.load(f))\n",
    "\n",
    "with open(save_path + f\"episode_init_vel_all_{to_add}.pkl\", \"rb\") as f:\n",
    "    episode_init_vel_all_max_obs = np.array(pickle.load(f))\n",
    "\n",
    "with open(save_path + f\"episode_sucess_all_{to_add}.pkl\", \"rb\") as f:\n",
    "    episode_sucess_all_max_obs = np.array(pickle.load(f))\n",
    "\n",
    "with open(save_path + f\"n_cuttoff_all_{to_add}.pkl\", \"rb\") as f:\n",
    "    n_cuttoff_all_max_obs = np.array(pickle.load(f))"
   ]
  },
  {
   "cell_type": "code",
   "execution_count": 10,
   "metadata": {},
   "outputs": [],
   "source": [
    "to_add = \"ppo_last_step\"\n",
    "save_path= \"eval_results/eval_results_big_exp2\"\n",
    "\n",
    "with open(save_path + f\"episode_rewards_all_{to_add}.pkl\", \"rb\") as f:\n",
    "    episode_rewards_all_ppo_last_step = np.array(pickle.load(f))\n",
    "\n",
    "with open(save_path + f\"episode_lengths_all_{to_add}.pkl\", \"rb\") as f:\n",
    "    episode_lengths_all_ppo_last_step = np.array(pickle.load(f))\n",
    "\n",
    "with open(save_path + f\"episode_rewards_not_adapted_all_{to_add}.pkl\", \"rb\") as f:\n",
    "    episode_rewards_not_adapted_all_ppo_last_step = np.array(pickle.load(f))\n",
    "\n",
    "with open(save_path + f\"episode_neg_min_vel_all_{to_add}.pkl\", \"rb\") as f:\n",
    "    episode_neg_min_vel_all_ppo_last_step = np.array(pickle.load(f))\n",
    "\n",
    "with open(save_path + f\"episode_init_vel_all_{to_add}.pkl\", \"rb\") as f:\n",
    "    episode_init_vel_all_ppo_last_steps = np.array(pickle.load(f))\n",
    "\n",
    "with open(save_path + f\"episode_sucess_all_{to_add}.pkl\", \"rb\") as f:\n",
    "    episode_sucess_all_ppo_last_step = np.array(pickle.load(f))\n",
    "\n",
    "with open(save_path + f\"n_cuttoff_all_{to_add}.pkl\", \"rb\") as f:\n",
    "    n_cuttoff_all_ppo_last_step = np.array(pickle.load(f))"
   ]
  },
  {
   "cell_type": "code",
   "execution_count": 11,
   "metadata": {},
   "outputs": [],
   "source": [
    "to_add = \"ppo_add_obs_laststep\"\n",
    "save_path= \"eval_results/eval_results_big_exp2\"\n",
    "\n",
    "with open(save_path + f\"episode_rewards_all_{to_add}.pkl\", \"rb\") as f:\n",
    "    episode_rewards_all_ppo_add_obs_laststep = np.array(pickle.load(f))\n",
    "\n",
    "with open(save_path + f\"episode_lengths_all_{to_add}.pkl\", \"rb\") as f:\n",
    "    episode_lengths_all_ppo_add_obs_laststep = np.array(pickle.load(f))\n",
    "\n",
    "with open(save_path + f\"episode_rewards_not_adapted_all_{to_add}.pkl\", \"rb\") as f:\n",
    "    episode_rewards_not_adapted_all_ppo_add_obs_laststep = np.array(pickle.load(f))\n",
    "\n",
    "with open(save_path + f\"episode_neg_min_vel_all_{to_add}.pkl\", \"rb\") as f:\n",
    "    episode_neg_min_vel_all_ppo_add_obs_laststep = np.array(pickle.load(f))\n",
    "\n",
    "with open(save_path + f\"episode_init_vel_all_{to_add}.pkl\", \"rb\") as f:\n",
    "    episode_init_vel_all_ppo_add_obs_laststep = np.array(pickle.load(f))\n",
    "\n",
    "with open(save_path + f\"episode_sucess_all_{to_add}.pkl\", \"rb\") as f:\n",
    "    episode_sucess_all_ppo_add_obs_laststep = np.array(pickle.load(f))\n",
    "\n",
    "with open(save_path + f\"n_cuttoff_all_{to_add}.pkl\", \"rb\") as f:\n",
    "    n_cuttoff_all_ppo_add_obs_laststep = np.array(pickle.load(f))"
   ]
  },
  {
   "cell_type": "code",
   "execution_count": 12,
   "metadata": {},
   "outputs": [],
   "source": [
    "n_max = 14\n",
    "n_normal = 15\n",
    "\n",
    "coeff_list = [12.5, 25, 50, 75, 100, 150, 200, 300, 400, 600, 800, 1200, 1600, 2400]"
   ]
  },
  {
   "cell_type": "code",
   "execution_count": 14,
   "metadata": {},
   "outputs": [
    {
     "data": {
      "image/png": "[encoded data removed]",
      "text/plain": [
       "<Figure size 275x275 with 1 Axes>"
      ]
     },
     "metadata": {},
     "output_type": "display_data"
    }
   ],
   "source": [
    "plt.figure(figsize=(2.75, 2.75))\n",
    "\n",
    "min_reward = 0.\n",
    "\n",
    "# last_step\n",
    "for i in range(episode_rewards_all_ppo_last_step.shape[0]):\n",
    "    for j in range(episode_rewards_all_ppo_last_step.shape[1]):\n",
    "        episode_rewards_not_adapted_all_ppo_last_step[i, j, episode_rewards_all_ppo_last_step.shape[2] - n_cuttoff_all_ppo_last_step[i, j]:] = min_reward\n",
    "\n",
    "mean_episode_rewards_all_ppo_last_step = np.mean(np.clip(episode_rewards_not_adapted_all_ppo_last_step, min_reward, None), axis=-1)\n",
    "mean, lower, upper = bootstrap_ci(mean_episode_rewards_all_ppo_last_step, n_resamples=10000, ci=95)\n",
    "plt.plot(coeff_list, mean, marker=\"x\", label=\"FINALPPO\", markersize=3, color=blue)\n",
    "plt.fill_between(coeff_list, lower, upper, color=blue, alpha=0.2)\n",
    "\n",
    "# # last step add obs\n",
    "\n",
    "for i in range(episode_rewards_all_ppo_add_obs_laststep.shape[0]):\n",
    "    for j in range(episode_rewards_all_ppo_add_obs_laststep.shape[1]):\n",
    "        episode_rewards_not_adapted_all_ppo_add_obs_laststep[i, j, episode_rewards_all_ppo_add_obs_laststep.shape[2] - n_cuttoff_all_ppo_add_obs_laststep[i, j]:] = min_reward\n",
    "mean_episode_rewards_all_ppo_add_obs_laststep = np.mean(np.clip(episode_rewards_not_adapted_all_ppo_add_obs_laststep, min_reward, None), axis=-1)\n",
    "mean, lower, upper = bootstrap_ci(mean_episode_rewards_all_ppo_add_obs_laststep, n_resamples=10000, ci=95)\n",
    "plt.plot(coeff_list, mean, label=\"ppo_add_obs_laststep\", color=\"red\", marker=\"^\")\n",
    "plt.fill_between(coeff_list, lower, upper, color=\"red\", alpha=0.2)\n",
    "\n",
    "# max_obs\n",
    "for i in range(episode_rewards_all_max_obs.shape[0]):\n",
    "    for j in range(episode_rewards_all_max_obs.shape[1]):\n",
    "        episode_rewards_not_adapted_all_max_obs[i, j, episode_rewards_all_max_obs.shape[2] - n_cuttoff_all_max_obs[i, j]:] = min_reward\n",
    "# calculate mean over all episodes\n",
    "mean_episode_rewards_all_max_obs = np.mean(np.clip(episode_rewards_not_adapted_all_max_obs, min_reward, None), axis=-1)\n",
    "mean, lower, upper = bootstrap_ci(mean_episode_rewards_all_max_obs, n_resamples=10000, ci=95)\n",
    "plt.plot(coeff_list, mean, marker=\"o\", label=\"MAXVELPPO (ours)\", markersize=3, color=orange,)\n",
    "plt.fill_between(coeff_list, lower, upper, color=orange, alpha=0.2)\n",
    "\n",
    "plt.grid()\n",
    "plt.legend(prop=font_legend)\n",
    "plt.xlabel(\"Maximum velocity penalty coefficient c\", **font)\n",
    "plt.ylabel(\"Mean return\", **font)\n",
    "#plt.title(\"Lunar lander\", **font)\n",
    "plt.tight_layout()\n",
    "plt.savefig(folder_save + \"lunar_lander_bootstrap.pdf\", bbox_inches='tight', transparent=True)"
   ]
  },
  {
   "cell_type": "code",
   "execution_count": null,
   "metadata": {},
   "outputs": [],
   "source": []
  }
 ],
 "metadata": {
  "kernelspec": {
   "display_name": "tf",
   "language": "python",
   "name": "python3"
  },
  "language_info": {
   "codemirror_mode": {
    "name": "ipython",
    "version": 3
   },
   "file_extension": ".py",
   "mimetype": "text/x-python",
   "name": "python",
   "nbconvert_exporter": "python",
   "pygments_lexer": "ipython3",
   "version": "3.11.5"
  }
 },
 "nbformat": 4,
 "nbformat_minor": 2
}
