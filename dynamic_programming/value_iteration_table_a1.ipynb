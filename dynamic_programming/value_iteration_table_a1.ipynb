{
 "cells": [
  {
   "cell_type": "markdown",
   "metadata": {},
   "source": [
    "This notebook uses value iteration to solve the MDP depicted in Figure A1 and produces the results of Table A1."
   ]
  },
  {
   "cell_type": "code",
   "execution_count": 6,
   "metadata": {},
   "outputs": [],
   "source": [
    "import numpy as np"
   ]
  },
  {
   "cell_type": "code",
   "execution_count": 2,
   "metadata": {},
   "outputs": [],
   "source": [
    "class demo_env_min():\n",
    "    def __init__(self, p_neg, start_val=0, rng=np.random.default_rng(0)) -> None:\n",
    "\n",
    "\n",
    "        self.p_neg = p_neg\n",
    "        # states: (state_idx, state_min)\n",
    "        self.states = [(0,0), \n",
    "                       (1,1), (1, -1),\n",
    "                       (2,0), (2, 1), (2, -2), (2, -1)]\n",
    "        self.n_states = len(self.states)\n",
    "        self.start_val = start_val\n",
    "        self.rng = rng\n",
    "        # transition_probs: [state_idx][action] = {next_state_idx: prob}\n",
    "        self.transition_probs = [[{1:0.5, 2:0.5,}], \n",
    "                                [{3:1}, {4:1-self.p_neg, 5:self.p_neg,}], [{6:1}, {6:1-self.p_neg, 5:self.p_neg,}], \n",
    "                                [],[],[],[]]\n",
    "\n",
    "        self.reset()\n",
    "\n",
    "    def get_state_value_idx(self, state):\n",
    "        idx_mapping= {(0,0): 0, \n",
    "                       (1,1): 1, (1, -1): 2,\n",
    "                       (2,0): 3, (2, 1): 4, (2, -2): 5, (2, -1): 6}\n",
    "        return idx_mapping[state]\n",
    "\n",
    "    def get_state_value(self, state):\n",
    "        return self.state_values[self.get_state_value_idx(state)]\n",
    "\n",
    "    def reset(self):\n",
    "        self.state_values = self.start_val * np.zeros(self.n_states)\n",
    "\n",
    "    def get_state_action_value(self, state, action):\n",
    "        state_min = state[1]\n",
    "        action_dict = self.transition_probs[self.states.index(state)][action]\n",
    "\n",
    "        state_action_val = 0\n",
    "        for next_state_idx, prob in action_dict.items():\n",
    "            next_state = self.states[next_state_idx]\n",
    "            reward = next_state[1] - state_min\n",
    "            state_action_val += (reward + self.get_state_value(next_state)) * prob\n",
    "        return state_action_val\n",
    "    \n",
    "    def train(self, n_steps):\n",
    "        \n",
    "        for _ in range(n_steps):\n",
    "            for idx, state in enumerate(self.states):\n",
    "                state_min = state[1]\n",
    "                action_values = []\n",
    "                for action_dict in self.transition_probs[idx]:\n",
    "                    update_val = 0\n",
    "                    for next_state_idx, prob in action_dict.items():\n",
    "                        next_state_idx, next_state_min = self.states[next_state_idx]\n",
    "                        reward = next_state_min - state_min\n",
    "                        next_state = (next_state_idx, next_state_min)\n",
    "                        update_val += (reward + self.get_state_value(next_state)) * prob\n",
    "                    action_values.append(update_val)\n",
    "                if len(action_values) > 0:\n",
    "                    self.state_values[self.get_state_value_idx(state)] = np.max(action_values)\n",
    "                \n",
    "        return self.state_values"
   ]
  },
  {
   "cell_type": "code",
   "execution_count": 3,
   "metadata": {},
   "outputs": [
    {
     "data": {
      "text/plain": [
       "array([-0.15, -0.3 ,  0.  ,  0.  ,  0.  ,  0.  ,  0.  ])"
      ]
     },
     "execution_count": 3,
     "metadata": {},
     "output_type": "execute_result"
    }
   ],
   "source": [
    "env_min = demo_env_min(p_neg=0.1)\n",
    "env_min.train(100)"
   ]
  },
  {
   "cell_type": "code",
   "execution_count": 4,
   "metadata": {},
   "outputs": [],
   "source": [
    "Q_values = {}\n",
    "Q_values[((0,0), 0)] = env_min.get_state_action_value((0,0), 0)\n",
    "Q_values[((1,1), 0)] = env_min.get_state_action_value((1,1), 0)\n",
    "Q_values[((1,1), 1)] = env_min.get_state_action_value((1,1), 1)\n",
    "Q_values[((1,-1), 0)] = env_min.get_state_action_value((1,-1), 0)\n",
    "Q_values[((1,-1), 1)] = env_min.get_state_action_value((1,-1), 1)\n"
   ]
  },
  {
   "cell_type": "code",
   "execution_count": 5,
   "metadata": {},
   "outputs": [
    {
     "data": {
      "text/plain": [
       "{((0, 0), 0): -0.15000000000000002,\n",
       " ((1, 1), 0): -1.0,\n",
       " ((1, 1), 1): -0.30000000000000004,\n",
       " ((1, -1), 0): 0.0,\n",
       " ((1, -1), 1): -0.1}"
      ]
     },
     "execution_count": 5,
     "metadata": {},
     "output_type": "execute_result"
    }
   ],
   "source": [
    "Q_values"
   ]
  }
 ],
 "metadata": {
  "kernelspec": {
   "display_name": "tf",
   "language": "python",
   "name": "python3"
  },
  "language_info": {
   "codemirror_mode": {
    "name": "ipython",
    "version": 3
   },
   "file_extension": ".py",
   "mimetype": "text/x-python",
   "name": "python",
   "nbconvert_exporter": "python",
   "pygments_lexer": "ipython3",
   "version": "3.11.5"
  }
 },
 "nbformat": 4,
 "nbformat_minor": 2
}
