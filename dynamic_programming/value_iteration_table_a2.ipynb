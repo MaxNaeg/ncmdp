{
 "cells": [
  {
   "cell_type": "markdown",
   "metadata": {},
   "source": [
    "This notebook uses value iteration to solve the MDP depicted in Figure A1 and produces the results of Table A1."
   ]
  },
  {
   "cell_type": "code",
   "execution_count": 14,
   "metadata": {},
   "outputs": [],
   "source": [
    "import numpy as np"
   ]
  },
  {
   "cell_type": "code",
   "execution_count": null,
   "metadata": {},
   "outputs": [],
   "source": [
    "class demo_env_min():\n",
    "    def __init__(self, p_neg, start_val=0, rng=np.random.default_rng(0)) -> None:\n",
    "\n",
    "\n",
    "        self.p_neg = p_neg\n",
    "        self.states = [0, 1, 2]\n",
    "        self.n_states = len(self.states)\n",
    "        self.start_val = start_val\n",
    "        self.rng = rng\n",
    "        self.reward_probs = [[{1:0.5, -1:0.5,}],\n",
    "                             [{0:1}, {1:1-self.p_neg, -2:self.p_neg,}],\n",
    "                            []]\n",
    "\n",
    "        self.reset()\n",
    "\n",
    "\n",
    "    def get_state_value(self, state):\n",
    "        return self.state_values[state]\n",
    "\n",
    "    def reset(self):\n",
    "        self.state_values = self.start_val * np.zeros(self.n_states)\n",
    "\n",
    "    def get_state_action_value(self, state, action):\n",
    "        action_dict = self.reward_probs[state][action]\n",
    "\n",
    "        state_action_val = 0\n",
    "        for reward, prob in action_dict.items():\n",
    "            next_state = state + 1\n",
    "            state_action_val += min(reward, self.get_state_value(next_state)) * prob\n",
    "        return state_action_val\n",
    "    \n",
    "    def train(self, n_steps):\n",
    "        \n",
    "        for _ in range(n_steps):\n",
    "            for idx, state in enumerate(self.states):\n",
    "                action_values = []\n",
    "                for action_dict in self.reward_probs[idx]:\n",
    "                    update_val = 0\n",
    "                    for reward, prob in action_dict.items():\n",
    "                        next_state = state  + 1\n",
    "                        update_val += min(reward, self.get_state_value(next_state)) * prob\n",
    "                    action_values.append(update_val)\n",
    "                if len(action_values) > 0:\n",
    "                    self.state_values[state] = np.max(action_values)\n",
    "                \n",
    "        return self.state_values"
   ]
  },
  {
   "cell_type": "code",
   "execution_count": 16,
   "metadata": {},
   "outputs": [
    {
     "data": {
      "text/plain": [
       "array([-0.5,  0. ,  0. ])"
      ]
     },
     "execution_count": 16,
     "metadata": {},
     "output_type": "execute_result"
    }
   ],
   "source": [
    "env_min = demo_env_min(p_neg=0.1)\n",
    "env_min.train(100)"
   ]
  },
  {
   "cell_type": "code",
   "execution_count": 18,
   "metadata": {},
   "outputs": [
    {
     "name": "stdout",
     "output_type": "stream",
     "text": [
      "{(0, 0): -0.5, (1, 0): 0, (1, 1): -0.2}\n"
     ]
    }
   ],
   "source": [
    "Q_values = {}\n",
    "Q_values[(0, 0)] = env_min.get_state_action_value(0, 0)\n",
    "Q_values[(1, 0)] = env_min.get_state_action_value(1, 0)\n",
    "Q_values[(1, 1)] = env_min.get_state_action_value(1, 1)\n",
    "print(Q_values)"
   ]
  },
  {
   "cell_type": "code",
   "execution_count": null,
   "metadata": {},
   "outputs": [],
   "source": []
  }
 ],
 "metadata": {
  "kernelspec": {
   "display_name": "tensorflow",
   "language": "python",
   "name": "python3"
  },
  "language_info": {
   "codemirror_mode": {
    "name": "ipython",
    "version": 3
   },
   "file_extension": ".py",
   "mimetype": "text/x-python",
   "name": "python",
   "nbconvert_exporter": "python",
   "pygments_lexer": "ipython3",
   "version": "3.12.0"
  }
 },
 "nbformat": 4,
 "nbformat_minor": 2
}
